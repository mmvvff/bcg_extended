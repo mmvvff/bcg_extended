{
 "cells": [
  {
   "cell_type": "markdown",
   "id": "a207638d-2d90-4a41-81e0-f86b35a174f9",
   "metadata": {},
   "source": [
    "# Exploratory Data Analysis\n",
    "\n",
    "## Import packages"
   ]
  },
  {
   "cell_type": "code",
   "execution_count": 1,
   "id": "21fa22a3-62fc-4ee9-ad3b-5e3fbc059bdf",
   "metadata": {},
   "outputs": [],
   "source": [
    "import sys\n",
    "import os\n",
    "import numpy as np\n",
    "import pandas as pd\n",
    "import matplotlib.pyplot as plt\n",
    "import seaborn as sns\n",
    "\n",
    "\n",
    "# Shows plots in jupyter notebook\n",
    "%matplotlib inline\n",
    "\n",
    "# Set plot style\n",
    "sns.set(color_codes=True)\n"
   ]
  },
  {
   "cell_type": "markdown",
   "id": "805367dc",
   "metadata": {},
   "source": [
    "## Functions\n",
    "\n",
    "This section brings together all our user-defined functions we'll use throughout this document. These functions address three main areas:\n",
    "- Data Completeness and Missing Values: These help identify and handle missing data issues that might affect our analysis.\n",
    "- Data Formatting and Type Consistency: These ensure that our data is formatted consistently and uses the correct data types for accurate analysis.\n",
    "- Visualization Support: Inspired by the BCQ starter kit, these functions help create clear and informative visualizations."
   ]
  },
  {
   "cell_type": "code",
   "execution_count": 2,
   "id": "c2e7d904",
   "metadata": {},
   "outputs": [],
   "source": [
    "#### Helper functions\n",
    "# get name of df\n",
    "def get_df_name(df):\n",
    "    name =[x for x in globals() if globals()[x] is df][0]\n",
    "    return name"
   ]
  },
  {
   "cell_type": "code",
   "execution_count": 3,
   "id": "2ce9e7b1",
   "metadata": {},
   "outputs": [],
   "source": [
    "# User defined functions\n",
    "# Set path for scripts folder\n",
    "path_scripts = os.path.abspath(os.path.join(os.getcwd(), \"..\", \"scripts\"))\n",
    "sys.path.append(path_scripts)\n",
    "import data_cleaning\n",
    "import data_visualization"
   ]
  },
  {
   "cell_type": "markdown",
   "id": "88cb5312-cbc0-4193-b84e-2c94455c9edf",
   "metadata": {},
   "source": [
    "---\n",
    "\n",
    "## Load\n",
    "We load the data with `convert_types()` to ensure precise data type definitions."
   ]
  },
  {
   "cell_type": "code",
   "execution_count": 4,
   "id": "82e6a4ae-2b8a-4152-b04f-0c998466fd50",
   "metadata": {},
   "outputs": [],
   "source": [
    "# Set path for data folder\n",
    "path_data = os.path.abspath(os.path.join(os.getcwd(), \"..\", \"data\"))\n",
    "\n",
    "# load data\n",
    "client_df = pd.read_csv(os.path.join(path_data,\"raw\",\"client_data.csv\")).convert_dtypes()\n",
    "price_df = pd.read_csv(os.path.join(path_data,\"raw\",\"price_data.csv\")).convert_dtypes()"
   ]
  },
  {
   "cell_type": "markdown",
   "id": "4ac7aaab-7c26-40ca-8f63-cf2ef9541ce6",
   "metadata": {},
   "source": [
    "We use `info()` and `head()` to get a basic understanding of our two main datasets: `client_df` and `price_df`.\n",
    "\n",
    "**Main Takeaways:**\n",
    "\n",
    "* **Size:** `client_df` has 26 columns and 14606 rows, while `price_df` has 8 columns and 193002 rows.\n",
    "\n",
    "* **Content:** `client_df` holds client characteristics, while `price_df` is a time series of prices.\n",
    "\n",
    "* **Connection:** Both data frames share a primary key named `id`.\n",
    "\n",
    "* **Missing Values:** While initial inspection suggests no missing values (non-null count equals entries), further analysis might reveal imputed values.\n",
    "\n",
    "* **Date Format:** Date columns in both data frames are currently strings and need conversion to datetime format.\n",
    "\n",
    "* **Data Types:** `price_df` contains mostly numerical data (besides date data and `id`), while `client_df` has a combination of numerical and categorical data.\n",
    "\n",
    "* **Categorical Variables in `client_df`:**\n",
    "    * **Dichotomous:** Variables like `churn` and `has_gas` are currently stored as integer and string, respectively. We'll convert them to booleans to improve readability and consistency.\n",
    "    * **Nominal:** Columns like `channel_sales` and `origin_up` have nominal categorical data. We'll convert them to the `categorical` type for better handling and readability."
   ]
  },
  {
   "cell_type": "code",
   "execution_count": 5,
   "id": "dcf0d488-d3df-4819-a52b-e335c0674e43",
   "metadata": {},
   "outputs": [
    {
     "name": "stdout",
     "output_type": "stream",
     "text": [
      "<class 'pandas.core.frame.DataFrame'>\n",
      "RangeIndex: 14606 entries, 0 to 14605\n",
      "Data columns (total 26 columns):\n",
      " #   Column                          Non-Null Count  Dtype  \n",
      "---  ------                          --------------  -----  \n",
      " 0   id                              14606 non-null  string \n",
      " 1   channel_sales                   14606 non-null  string \n",
      " 2   cons_12m                        14606 non-null  Int64  \n",
      " 3   cons_gas_12m                    14606 non-null  Int64  \n",
      " 4   cons_last_month                 14606 non-null  Int64  \n",
      " 5   date_activ                      14606 non-null  string \n",
      " 6   date_end                        14606 non-null  string \n",
      " 7   date_modif_prod                 14606 non-null  string \n",
      " 8   date_renewal                    14606 non-null  string \n",
      " 9   forecast_cons_12m               14606 non-null  Float64\n",
      " 10  forecast_cons_year              14606 non-null  Int64  \n",
      " 11  forecast_discount_energy        14606 non-null  Int64  \n",
      " 12  forecast_meter_rent_12m         14606 non-null  Float64\n",
      " 13  forecast_price_energy_off_peak  14606 non-null  Float64\n",
      " 14  forecast_price_energy_peak      14606 non-null  Float64\n",
      " 15  forecast_price_pow_off_peak     14606 non-null  Float64\n",
      " 16  has_gas                         14606 non-null  string \n",
      " 17  imp_cons                        14606 non-null  Float64\n",
      " 18  margin_gross_pow_ele            14606 non-null  Float64\n",
      " 19  margin_net_pow_ele              14606 non-null  Float64\n",
      " 20  nb_prod_act                     14606 non-null  Int64  \n",
      " 21  net_margin                      14606 non-null  Float64\n",
      " 22  num_years_antig                 14606 non-null  Int64  \n",
      " 23  origin_up                       14606 non-null  string \n",
      " 24  pow_max                         14606 non-null  Float64\n",
      " 25  churn                           14606 non-null  Int64  \n",
      "dtypes: Float64(10), Int64(8), string(8)\n",
      "memory usage: 3.1 MB\n"
     ]
    },
    {
     "data": {
      "text/html": [
       "<div>\n",
       "<style scoped>\n",
       "    .dataframe tbody tr th:only-of-type {\n",
       "        vertical-align: middle;\n",
       "    }\n",
       "\n",
       "    .dataframe tbody tr th {\n",
       "        vertical-align: top;\n",
       "    }\n",
       "\n",
       "    .dataframe thead th {\n",
       "        text-align: right;\n",
       "    }\n",
       "</style>\n",
       "<table border=\"1\" class=\"dataframe\">\n",
       "  <thead>\n",
       "    <tr style=\"text-align: right;\">\n",
       "      <th></th>\n",
       "      <th>id</th>\n",
       "      <th>channel_sales</th>\n",
       "      <th>cons_12m</th>\n",
       "      <th>cons_gas_12m</th>\n",
       "      <th>cons_last_month</th>\n",
       "      <th>date_activ</th>\n",
       "      <th>date_end</th>\n",
       "      <th>date_modif_prod</th>\n",
       "      <th>date_renewal</th>\n",
       "      <th>forecast_cons_12m</th>\n",
       "      <th>...</th>\n",
       "      <th>has_gas</th>\n",
       "      <th>imp_cons</th>\n",
       "      <th>margin_gross_pow_ele</th>\n",
       "      <th>margin_net_pow_ele</th>\n",
       "      <th>nb_prod_act</th>\n",
       "      <th>net_margin</th>\n",
       "      <th>num_years_antig</th>\n",
       "      <th>origin_up</th>\n",
       "      <th>pow_max</th>\n",
       "      <th>churn</th>\n",
       "    </tr>\n",
       "  </thead>\n",
       "  <tbody>\n",
       "    <tr>\n",
       "      <th>0</th>\n",
       "      <td>24011ae4ebbe3035111d65fa7c15bc57</td>\n",
       "      <td>foosdfpfkusacimwkcsosbicdxkicaua</td>\n",
       "      <td>0</td>\n",
       "      <td>54946</td>\n",
       "      <td>0</td>\n",
       "      <td>2013-06-15</td>\n",
       "      <td>2016-06-15</td>\n",
       "      <td>2015-11-01</td>\n",
       "      <td>2015-06-23</td>\n",
       "      <td>0.0</td>\n",
       "      <td>...</td>\n",
       "      <td>t</td>\n",
       "      <td>0.0</td>\n",
       "      <td>25.44</td>\n",
       "      <td>25.44</td>\n",
       "      <td>2</td>\n",
       "      <td>678.99</td>\n",
       "      <td>3</td>\n",
       "      <td>lxidpiddsbxsbosboudacockeimpuepw</td>\n",
       "      <td>43.648</td>\n",
       "      <td>1</td>\n",
       "    </tr>\n",
       "    <tr>\n",
       "      <th>1</th>\n",
       "      <td>d29c2c54acc38ff3c0614d0a653813dd</td>\n",
       "      <td>MISSING</td>\n",
       "      <td>4660</td>\n",
       "      <td>0</td>\n",
       "      <td>0</td>\n",
       "      <td>2009-08-21</td>\n",
       "      <td>2016-08-30</td>\n",
       "      <td>2009-08-21</td>\n",
       "      <td>2015-08-31</td>\n",
       "      <td>189.95</td>\n",
       "      <td>...</td>\n",
       "      <td>f</td>\n",
       "      <td>0.0</td>\n",
       "      <td>16.38</td>\n",
       "      <td>16.38</td>\n",
       "      <td>1</td>\n",
       "      <td>18.89</td>\n",
       "      <td>6</td>\n",
       "      <td>kamkkxfxxuwbdslkwifmmcsiusiuosws</td>\n",
       "      <td>13.8</td>\n",
       "      <td>0</td>\n",
       "    </tr>\n",
       "    <tr>\n",
       "      <th>2</th>\n",
       "      <td>764c75f661154dac3a6c254cd082ea7d</td>\n",
       "      <td>foosdfpfkusacimwkcsosbicdxkicaua</td>\n",
       "      <td>544</td>\n",
       "      <td>0</td>\n",
       "      <td>0</td>\n",
       "      <td>2010-04-16</td>\n",
       "      <td>2016-04-16</td>\n",
       "      <td>2010-04-16</td>\n",
       "      <td>2015-04-17</td>\n",
       "      <td>47.96</td>\n",
       "      <td>...</td>\n",
       "      <td>f</td>\n",
       "      <td>0.0</td>\n",
       "      <td>28.6</td>\n",
       "      <td>28.6</td>\n",
       "      <td>1</td>\n",
       "      <td>6.6</td>\n",
       "      <td>6</td>\n",
       "      <td>kamkkxfxxuwbdslkwifmmcsiusiuosws</td>\n",
       "      <td>13.856</td>\n",
       "      <td>0</td>\n",
       "    </tr>\n",
       "  </tbody>\n",
       "</table>\n",
       "<p>3 rows × 26 columns</p>\n",
       "</div>"
      ],
      "text/plain": [
       "                                 id                     channel_sales  \\\n",
       "0  24011ae4ebbe3035111d65fa7c15bc57  foosdfpfkusacimwkcsosbicdxkicaua   \n",
       "1  d29c2c54acc38ff3c0614d0a653813dd                           MISSING   \n",
       "2  764c75f661154dac3a6c254cd082ea7d  foosdfpfkusacimwkcsosbicdxkicaua   \n",
       "\n",
       "   cons_12m  cons_gas_12m  cons_last_month  date_activ    date_end  \\\n",
       "0         0         54946                0  2013-06-15  2016-06-15   \n",
       "1      4660             0                0  2009-08-21  2016-08-30   \n",
       "2       544             0                0  2010-04-16  2016-04-16   \n",
       "\n",
       "  date_modif_prod date_renewal  forecast_cons_12m  ...  has_gas  imp_cons  \\\n",
       "0      2015-11-01   2015-06-23                0.0  ...        t       0.0   \n",
       "1      2009-08-21   2015-08-31             189.95  ...        f       0.0   \n",
       "2      2010-04-16   2015-04-17              47.96  ...        f       0.0   \n",
       "\n",
       "   margin_gross_pow_ele  margin_net_pow_ele  nb_prod_act  net_margin  \\\n",
       "0                 25.44               25.44            2      678.99   \n",
       "1                 16.38               16.38            1       18.89   \n",
       "2                  28.6                28.6            1         6.6   \n",
       "\n",
       "  num_years_antig                         origin_up  pow_max  churn  \n",
       "0               3  lxidpiddsbxsbosboudacockeimpuepw   43.648      1  \n",
       "1               6  kamkkxfxxuwbdslkwifmmcsiusiuosws     13.8      0  \n",
       "2               6  kamkkxfxxuwbdslkwifmmcsiusiuosws   13.856      0  \n",
       "\n",
       "[3 rows x 26 columns]"
      ]
     },
     "execution_count": 5,
     "metadata": {},
     "output_type": "execute_result"
    }
   ],
   "source": [
    "client_df.info(verbose=True, max_cols=30)\n",
    "client_df.head(3)"
   ]
  },
  {
   "cell_type": "code",
   "execution_count": 6,
   "id": "d7861206",
   "metadata": {},
   "outputs": [
    {
     "name": "stdout",
     "output_type": "stream",
     "text": [
      "<class 'pandas.core.frame.DataFrame'>\n",
      "RangeIndex: 193002 entries, 0 to 193001\n",
      "Data columns (total 8 columns):\n",
      " #   Column              Non-Null Count   Dtype  \n",
      "---  ------              --------------   -----  \n",
      " 0   id                  193002 non-null  string \n",
      " 1   price_date          193002 non-null  string \n",
      " 2   price_off_peak_var  193002 non-null  Float64\n",
      " 3   price_peak_var      193002 non-null  Float64\n",
      " 4   price_mid_peak_var  193002 non-null  Float64\n",
      " 5   price_off_peak_fix  193002 non-null  Float64\n",
      " 6   price_peak_fix      193002 non-null  Float64\n",
      " 7   price_mid_peak_fix  193002 non-null  Float64\n",
      "dtypes: Float64(6), string(2)\n",
      "memory usage: 12.9 MB\n"
     ]
    },
    {
     "data": {
      "text/html": [
       "<div>\n",
       "<style scoped>\n",
       "    .dataframe tbody tr th:only-of-type {\n",
       "        vertical-align: middle;\n",
       "    }\n",
       "\n",
       "    .dataframe tbody tr th {\n",
       "        vertical-align: top;\n",
       "    }\n",
       "\n",
       "    .dataframe thead th {\n",
       "        text-align: right;\n",
       "    }\n",
       "</style>\n",
       "<table border=\"1\" class=\"dataframe\">\n",
       "  <thead>\n",
       "    <tr style=\"text-align: right;\">\n",
       "      <th></th>\n",
       "      <th>id</th>\n",
       "      <th>price_date</th>\n",
       "      <th>price_off_peak_var</th>\n",
       "      <th>price_peak_var</th>\n",
       "      <th>price_mid_peak_var</th>\n",
       "      <th>price_off_peak_fix</th>\n",
       "      <th>price_peak_fix</th>\n",
       "      <th>price_mid_peak_fix</th>\n",
       "    </tr>\n",
       "  </thead>\n",
       "  <tbody>\n",
       "    <tr>\n",
       "      <th>0</th>\n",
       "      <td>038af19179925da21a25619c5a24b745</td>\n",
       "      <td>2015-01-01</td>\n",
       "      <td>0.151367</td>\n",
       "      <td>0.0</td>\n",
       "      <td>0.0</td>\n",
       "      <td>44.266931</td>\n",
       "      <td>0.0</td>\n",
       "      <td>0.0</td>\n",
       "    </tr>\n",
       "    <tr>\n",
       "      <th>1</th>\n",
       "      <td>038af19179925da21a25619c5a24b745</td>\n",
       "      <td>2015-02-01</td>\n",
       "      <td>0.151367</td>\n",
       "      <td>0.0</td>\n",
       "      <td>0.0</td>\n",
       "      <td>44.266931</td>\n",
       "      <td>0.0</td>\n",
       "      <td>0.0</td>\n",
       "    </tr>\n",
       "    <tr>\n",
       "      <th>2</th>\n",
       "      <td>038af19179925da21a25619c5a24b745</td>\n",
       "      <td>2015-03-01</td>\n",
       "      <td>0.151367</td>\n",
       "      <td>0.0</td>\n",
       "      <td>0.0</td>\n",
       "      <td>44.266931</td>\n",
       "      <td>0.0</td>\n",
       "      <td>0.0</td>\n",
       "    </tr>\n",
       "  </tbody>\n",
       "</table>\n",
       "</div>"
      ],
      "text/plain": [
       "                                 id  price_date  price_off_peak_var  \\\n",
       "0  038af19179925da21a25619c5a24b745  2015-01-01            0.151367   \n",
       "1  038af19179925da21a25619c5a24b745  2015-02-01            0.151367   \n",
       "2  038af19179925da21a25619c5a24b745  2015-03-01            0.151367   \n",
       "\n",
       "   price_peak_var  price_mid_peak_var  price_off_peak_fix  price_peak_fix  \\\n",
       "0             0.0                 0.0           44.266931             0.0   \n",
       "1             0.0                 0.0           44.266931             0.0   \n",
       "2             0.0                 0.0           44.266931             0.0   \n",
       "\n",
       "   price_mid_peak_fix  \n",
       "0                 0.0  \n",
       "1                 0.0  \n",
       "2                 0.0  "
      ]
     },
     "execution_count": 6,
     "metadata": {},
     "output_type": "execute_result"
    }
   ],
   "source": [
    "price_df.info()\n",
    "price_df.head(3)"
   ]
  },
  {
   "cell_type": "markdown",
   "id": "f71120a8",
   "metadata": {},
   "source": [
    "---\n",
    "\n",
    "## Data cleaning and preparation\n",
    "\n",
    "### Data quality: Completeness and Missing values\n",
    "\n",
    "This section focuses on finding and handling missing values in the categorical columns.\n",
    "\n",
    "We use the `channel_sales` column as our starting point. The output of `head()` below shows that it has a value of `\"MISSING\"` to indicate missing data (NA). We'll check if other categorical columns use similar values (e.g., \"NA\", \"Unknown\") to represent NA.\n",
    "\n",
    "Since categorical data in these columns is stored as hashed text strings (refer to the data's documentation), they usually have a fixed length. We leverage this characteristic to identify missing values. We compare the length of each string to the maximum length within the column. Entries with a shorter length might indicate missing values that have been hashed with a special value. In contrast, we consider that if all values share the same length, NA are absent.\n",
    "\n",
    "All values identified correspond to 'MISSING'. Therefore, we replace these values with `np.nan` for consistency."
   ]
  },
  {
   "cell_type": "code",
   "execution_count": 7,
   "id": "075ed728",
   "metadata": {},
   "outputs": [
    {
     "data": {
      "text/html": [
       "<div>\n",
       "<style scoped>\n",
       "    .dataframe tbody tr th:only-of-type {\n",
       "        vertical-align: middle;\n",
       "    }\n",
       "\n",
       "    .dataframe tbody tr th {\n",
       "        vertical-align: top;\n",
       "    }\n",
       "\n",
       "    .dataframe thead th {\n",
       "        text-align: right;\n",
       "    }\n",
       "</style>\n",
       "<table border=\"1\" class=\"dataframe\">\n",
       "  <thead>\n",
       "    <tr style=\"text-align: right;\">\n",
       "      <th></th>\n",
       "      <th>id</th>\n",
       "      <th>channel_sales</th>\n",
       "      <th>date_activ</th>\n",
       "      <th>date_end</th>\n",
       "      <th>date_modif_prod</th>\n",
       "      <th>date_renewal</th>\n",
       "      <th>has_gas</th>\n",
       "      <th>origin_up</th>\n",
       "    </tr>\n",
       "  </thead>\n",
       "  <tbody>\n",
       "    <tr>\n",
       "      <th>0</th>\n",
       "      <td>24011ae4ebbe3035111d65fa7c15bc57</td>\n",
       "      <td>foosdfpfkusacimwkcsosbicdxkicaua</td>\n",
       "      <td>2013-06-15</td>\n",
       "      <td>2016-06-15</td>\n",
       "      <td>2015-11-01</td>\n",
       "      <td>2015-06-23</td>\n",
       "      <td>t</td>\n",
       "      <td>lxidpiddsbxsbosboudacockeimpuepw</td>\n",
       "    </tr>\n",
       "    <tr>\n",
       "      <th>1</th>\n",
       "      <td>d29c2c54acc38ff3c0614d0a653813dd</td>\n",
       "      <td>MISSING</td>\n",
       "      <td>2009-08-21</td>\n",
       "      <td>2016-08-30</td>\n",
       "      <td>2009-08-21</td>\n",
       "      <td>2015-08-31</td>\n",
       "      <td>f</td>\n",
       "      <td>kamkkxfxxuwbdslkwifmmcsiusiuosws</td>\n",
       "    </tr>\n",
       "    <tr>\n",
       "      <th>2</th>\n",
       "      <td>764c75f661154dac3a6c254cd082ea7d</td>\n",
       "      <td>foosdfpfkusacimwkcsosbicdxkicaua</td>\n",
       "      <td>2010-04-16</td>\n",
       "      <td>2016-04-16</td>\n",
       "      <td>2010-04-16</td>\n",
       "      <td>2015-04-17</td>\n",
       "      <td>f</td>\n",
       "      <td>kamkkxfxxuwbdslkwifmmcsiusiuosws</td>\n",
       "    </tr>\n",
       "  </tbody>\n",
       "</table>\n",
       "</div>"
      ],
      "text/plain": [
       "                                 id                     channel_sales  \\\n",
       "0  24011ae4ebbe3035111d65fa7c15bc57  foosdfpfkusacimwkcsosbicdxkicaua   \n",
       "1  d29c2c54acc38ff3c0614d0a653813dd                           MISSING   \n",
       "2  764c75f661154dac3a6c254cd082ea7d  foosdfpfkusacimwkcsosbicdxkicaua   \n",
       "\n",
       "   date_activ    date_end date_modif_prod date_renewal has_gas  \\\n",
       "0  2013-06-15  2016-06-15      2015-11-01   2015-06-23       t   \n",
       "1  2009-08-21  2016-08-30      2009-08-21   2015-08-31       f   \n",
       "2  2010-04-16  2016-04-16      2010-04-16   2015-04-17       f   \n",
       "\n",
       "                          origin_up  \n",
       "0  lxidpiddsbxsbosboudacockeimpuepw  \n",
       "1  kamkkxfxxuwbdslkwifmmcsiusiuosws  \n",
       "2  kamkkxfxxuwbdslkwifmmcsiusiuosws  "
      ]
     },
     "execution_count": 7,
     "metadata": {},
     "output_type": "execute_result"
    }
   ],
   "source": [
    "client_df[client_df.select_dtypes(include=['string']).columns].head(3)"
   ]
  },
  {
   "cell_type": "markdown",
   "id": "303c448c",
   "metadata": {},
   "source": [
    "**First**, we iterate through all string columns in both dataframes to identify inconsistencies in string lengths and discover which values represent missing data (NA) in these columns.\n",
    "\n",
    "Our assessment reveals that only `client_df` has missing values, while `price_df` is complete. In both the `channel_sales` and `origin_up` columns within `client_df`, the value `\"MISSING\"` is used to indicate missing data.\n"
   ]
  },
  {
   "cell_type": "code",
   "execution_count": 8,
   "id": "660fae82",
   "metadata": {},
   "outputs": [
    {
     "name": "stdout",
     "output_type": "stream",
     "text": [
      "client_df:channel_sales has inconsistent string length: max 32, min 7\n",
      "client_df:origin_up has inconsistent string length: max 32, min 7\n",
      "client_df:channel_sales, strings of min length: ['MISSING']\n",
      "client_df:origin_up, strings of min length: ['MISSING']\n",
      "price_df has no inconsistent columns\n",
      "\n",
      "Unique values denoting NA in all string columns of all dfs: ['MISSING']\n"
     ]
    }
   ],
   "source": [
    "cols_string_missing_values = []\n",
    "for df in (client_df, price_df):\n",
    "    cols_string_inconsistent = []\n",
    "    for col in df.select_dtypes(include=['string']).columns:\n",
    "        if max(df[col].str.len()) != min(df[col].str.len()):\n",
    "            cols_string_inconsistent.append(col)\n",
    "        else:\n",
    "            continue\n",
    "    if cols_string_inconsistent:\n",
    "        for col in cols_string_inconsistent:\n",
    "            print(f\"{get_df_name(df)}:{col} has inconsistent string length: max {max(df[col].str.len())}, min {min(df[col].str.len())}\")\n",
    "    else:\n",
    "        print(f\"{get_df_name(df)} has no inconsistent columns\")\n",
    "\n",
    "    for col in cols_string_inconsistent:\n",
    "        col_min = min(df[col].str.len())\n",
    "        client_subset_loop = df[df[col].str.len() == col_min]\n",
    "        cols_string_missing_values.extend(list(client_subset_loop[col].unique()))\n",
    "        print(f\"{get_df_name(df)}:{col}, strings of min length: {list(client_subset_loop[col].unique())}\")\n",
    "print(f\"\\nUnique values denoting NA in all string columns of all dfs: {list(set(cols_string_missing_values))}\")\n"
   ]
  },
  {
   "cell_type": "markdown",
   "id": "b033f78e",
   "metadata": {},
   "source": [
    "**Second**, we replace missing values. We employ our custom `replace_unknown_object_cols()` function to replace the string 'MISSING' with `np.nan`in the columns identified earlier. This ensures consistent representation of missing data.\n",
    "\n",
    "**Third**, we assess missingness prevalence. We use our custom function `prevalence_missingness()` to analyze the percentage of missing values in each column of both dataframes. The analysis reveals a high proportion of missing values (around 25%) in the `channel_sales` column, while the `origin_up` column has very few missing values (less than 1%)."
   ]
  },
  {
   "cell_type": "code",
   "execution_count": 9,
   "id": "17f9b8aa",
   "metadata": {},
   "outputs": [
    {
     "data": {
      "text/html": [
       "<div>\n",
       "<style scoped>\n",
       "    .dataframe tbody tr th:only-of-type {\n",
       "        vertical-align: middle;\n",
       "    }\n",
       "\n",
       "    .dataframe tbody tr th {\n",
       "        vertical-align: top;\n",
       "    }\n",
       "\n",
       "    .dataframe thead th {\n",
       "        text-align: right;\n",
       "    }\n",
       "</style>\n",
       "<table border=\"1\" class=\"dataframe\">\n",
       "  <thead>\n",
       "    <tr style=\"text-align: right;\">\n",
       "      <th></th>\n",
       "      <th>col_name</th>\n",
       "      <th>prevalence_na</th>\n",
       "    </tr>\n",
       "  </thead>\n",
       "  <tbody>\n",
       "    <tr>\n",
       "      <th>0</th>\n",
       "      <td>id</td>\n",
       "      <td>0.00</td>\n",
       "    </tr>\n",
       "    <tr>\n",
       "      <th>1</th>\n",
       "      <td>channel_sales</td>\n",
       "      <td>25.50</td>\n",
       "    </tr>\n",
       "    <tr>\n",
       "      <th>2</th>\n",
       "      <td>cons_12m</td>\n",
       "      <td>0.00</td>\n",
       "    </tr>\n",
       "    <tr>\n",
       "      <th>3</th>\n",
       "      <td>cons_gas_12m</td>\n",
       "      <td>0.00</td>\n",
       "    </tr>\n",
       "    <tr>\n",
       "      <th>4</th>\n",
       "      <td>cons_last_month</td>\n",
       "      <td>0.00</td>\n",
       "    </tr>\n",
       "    <tr>\n",
       "      <th>5</th>\n",
       "      <td>date_activ</td>\n",
       "      <td>0.00</td>\n",
       "    </tr>\n",
       "    <tr>\n",
       "      <th>6</th>\n",
       "      <td>date_end</td>\n",
       "      <td>0.00</td>\n",
       "    </tr>\n",
       "    <tr>\n",
       "      <th>7</th>\n",
       "      <td>date_modif_prod</td>\n",
       "      <td>0.00</td>\n",
       "    </tr>\n",
       "    <tr>\n",
       "      <th>8</th>\n",
       "      <td>date_renewal</td>\n",
       "      <td>0.00</td>\n",
       "    </tr>\n",
       "    <tr>\n",
       "      <th>9</th>\n",
       "      <td>forecast_cons_12m</td>\n",
       "      <td>0.00</td>\n",
       "    </tr>\n",
       "    <tr>\n",
       "      <th>10</th>\n",
       "      <td>forecast_cons_year</td>\n",
       "      <td>0.00</td>\n",
       "    </tr>\n",
       "    <tr>\n",
       "      <th>11</th>\n",
       "      <td>forecast_discount_energy</td>\n",
       "      <td>0.00</td>\n",
       "    </tr>\n",
       "    <tr>\n",
       "      <th>12</th>\n",
       "      <td>forecast_meter_rent_12m</td>\n",
       "      <td>0.00</td>\n",
       "    </tr>\n",
       "    <tr>\n",
       "      <th>13</th>\n",
       "      <td>forecast_price_energy_off_peak</td>\n",
       "      <td>0.00</td>\n",
       "    </tr>\n",
       "    <tr>\n",
       "      <th>14</th>\n",
       "      <td>forecast_price_energy_peak</td>\n",
       "      <td>0.00</td>\n",
       "    </tr>\n",
       "    <tr>\n",
       "      <th>15</th>\n",
       "      <td>forecast_price_pow_off_peak</td>\n",
       "      <td>0.00</td>\n",
       "    </tr>\n",
       "    <tr>\n",
       "      <th>16</th>\n",
       "      <td>has_gas</td>\n",
       "      <td>0.00</td>\n",
       "    </tr>\n",
       "    <tr>\n",
       "      <th>17</th>\n",
       "      <td>imp_cons</td>\n",
       "      <td>0.00</td>\n",
       "    </tr>\n",
       "    <tr>\n",
       "      <th>18</th>\n",
       "      <td>margin_gross_pow_ele</td>\n",
       "      <td>0.00</td>\n",
       "    </tr>\n",
       "    <tr>\n",
       "      <th>19</th>\n",
       "      <td>margin_net_pow_ele</td>\n",
       "      <td>0.00</td>\n",
       "    </tr>\n",
       "    <tr>\n",
       "      <th>20</th>\n",
       "      <td>nb_prod_act</td>\n",
       "      <td>0.00</td>\n",
       "    </tr>\n",
       "    <tr>\n",
       "      <th>21</th>\n",
       "      <td>net_margin</td>\n",
       "      <td>0.00</td>\n",
       "    </tr>\n",
       "    <tr>\n",
       "      <th>22</th>\n",
       "      <td>num_years_antig</td>\n",
       "      <td>0.00</td>\n",
       "    </tr>\n",
       "    <tr>\n",
       "      <th>23</th>\n",
       "      <td>origin_up</td>\n",
       "      <td>0.44</td>\n",
       "    </tr>\n",
       "    <tr>\n",
       "      <th>24</th>\n",
       "      <td>pow_max</td>\n",
       "      <td>0.00</td>\n",
       "    </tr>\n",
       "    <tr>\n",
       "      <th>25</th>\n",
       "      <td>churn</td>\n",
       "      <td>0.00</td>\n",
       "    </tr>\n",
       "  </tbody>\n",
       "</table>\n",
       "</div>"
      ],
      "text/plain": [
       "                          col_name  prevalence_na\n",
       "0                               id           0.00\n",
       "1                    channel_sales          25.50\n",
       "2                         cons_12m           0.00\n",
       "3                     cons_gas_12m           0.00\n",
       "4                  cons_last_month           0.00\n",
       "5                       date_activ           0.00\n",
       "6                         date_end           0.00\n",
       "7                  date_modif_prod           0.00\n",
       "8                     date_renewal           0.00\n",
       "9                forecast_cons_12m           0.00\n",
       "10              forecast_cons_year           0.00\n",
       "11        forecast_discount_energy           0.00\n",
       "12         forecast_meter_rent_12m           0.00\n",
       "13  forecast_price_energy_off_peak           0.00\n",
       "14      forecast_price_energy_peak           0.00\n",
       "15     forecast_price_pow_off_peak           0.00\n",
       "16                         has_gas           0.00\n",
       "17                        imp_cons           0.00\n",
       "18            margin_gross_pow_ele           0.00\n",
       "19              margin_net_pow_ele           0.00\n",
       "20                     nb_prod_act           0.00\n",
       "21                      net_margin           0.00\n",
       "22                 num_years_antig           0.00\n",
       "23                       origin_up           0.44\n",
       "24                         pow_max           0.00\n",
       "25                           churn           0.00"
      ]
     },
     "execution_count": 9,
     "metadata": {},
     "output_type": "execute_result"
    }
   ],
   "source": [
    "client_df = data_cleaning.replace_unknown_object_cols(client_df, cols_string_missing_values).copy()\n",
    "data_cleaning.prevalence_missingness(client_df)"
   ]
  },
  {
   "cell_type": "markdown",
   "id": "b5353f99",
   "metadata": {},
   "source": [
    "**Fourth**, we address the relative high prevalence of NA in the `channel_sales` column.  We consider two approaches to tackle this issue:\n",
    "\n",
    "   - **Option 1: Drop the Column:** This approach prioritizes keeping all observations in the dataset (maximizing sample size) even if it means removing the `channel_sales` column entirely.\n",
    "   - **Option 2: Drop Observations with Missing Values:** This approach prioritizes keeping the `channel_sales` column (preserving the information it provides) even if it means removing some observations from the dataset (reducing sample size).\n",
    "\n",
    "We choose the second option for the following two reasons:\n",
    "\n",
    "   - The relatively large initial sample size of the `client_df` dataframe (14,606 rows) allows for some reduction without significantly impacting analysis.\n",
    "   - The `channel_sales` column offers valuable information: \n",
    "      - It contains categorical nominal data, which is uncommon in our datasets.\n",
    "      - It directly relates to our core analytical focus: defensive marketing and churn prevention.\n",
    "\n",
    "Therefore, we opt to remove observations with missing values in the `channel_sales` or in `origin_up` columns to retain these crucial data points for our analysis."
   ]
  },
  {
   "cell_type": "code",
   "execution_count": 10,
   "id": "53d2e042",
   "metadata": {},
   "outputs": [],
   "source": [
    "# remove NAs\n",
    "client_df = client_df.dropna().copy()"
   ]
  },
  {
   "cell_type": "markdown",
   "id": "7c5a56c0",
   "metadata": {},
   "source": [
    "### Data quality: Formatting and Type Consistency\n",
    "\n",
    "First, we addresses data type conversion to enhance data handling, consistency, and readability. We proceed as follows:\n",
    "\n",
    "* Categorical dichotomous data (stored as integers or strings) to Boolean.\n",
    "* Date data (stored as strings) to datetime.\n",
    "* Categorical nominal data (stored as strings) to category.\n"
   ]
  },
  {
   "cell_type": "code",
   "execution_count": 11,
   "id": "2319c62c",
   "metadata": {},
   "outputs": [],
   "source": [
    "# convert to bool\n",
    "client_df = data_cleaning.convert_bool_cols(client_df).copy()\n",
    "price_df = data_cleaning.convert_bool_cols(price_df).copy()\n",
    "\n",
    "# convert to pd.datetime\n",
    "client_df = data_cleaning.convert_obj_to_date(client_df).copy()\n",
    "price_df = data_cleaning.convert_obj_to_date(price_df).copy()\n",
    "\n",
    "# convert to categorical data\n",
    "client_df = data_cleaning.convert_to_category(client_df).copy()"
   ]
  },
  {
   "cell_type": "markdown",
   "id": "c49f1904",
   "metadata": {},
   "source": [
    "Second, we identify and address data inconsistencies arising in our categorical and date data.\n",
    "\n",
    "First, we address inconsistencies in the column `has_gas`, which indicates whether a customer is a gas client. We assume that a customer with positive gas consumption in the past 12 months (reflected in the `cons_gas_12m field` > 0) should be marked as a gas client (`has_gas` = `True`). We identify and correct any discrepancies based on this assumption."
   ]
  },
  {
   "cell_type": "code",
   "execution_count": 12,
   "id": "2b8c25ec",
   "metadata": {},
   "outputs": [
    {
     "name": "stdout",
     "output_type": "stream",
     "text": [
      "Size of inconsistencies in has_gas: 41\n"
     ]
    }
   ],
   "source": [
    "# assess inconsistencies in data\n",
    "# we drop those cases where \"has_gas\" and \"cons_gas_12m\" are inconsistent\n",
    "client_df[\"gas_inconsistent\"] = [\n",
    "    True if (a > 0 and not b) else False \n",
    "    for a, b in zip(client_df[\"cons_gas_12m\"], client_df[\"has_gas\"])\n",
    "]\n",
    "size_gas = len(client_df[client_df[\"gas_inconsistent\"]==True])\n",
    "if size_gas > 0:\n",
    "    print(f\"Size of inconsistencies in has_gas: {size_gas}\")\n",
    "\n",
    "    # we replace those case that are inconsistent with \"True\",\n",
    "    # otherwise if leave them as is\n",
    "    client_df[\"has_gas\"] = np.where(client_df[\"gas_inconsistent\"], True, client_df[\"has_gas\"]).copy()\n",
    "    # we may also remove these is necessary\n",
    "    # client_df = client_df.drop(client_df[client_df[\"gas_inconsistent\"]==True].index).copy()\n",
    "client_df = client_df.drop(columns=[\"gas_inconsistent\"]).copy()"
   ]
  },
  {
   "cell_type": "markdown",
   "id": "2818ec66",
   "metadata": {},
   "source": [
    "**Second,** we examine our date data for inconsistencies. We evaluate the following three assumptions:\n",
    "\n",
    "* **Assumption 1:** `date_activ` (date of contract activation) should be earlier than any other date values, such as `date_end` (registered date of contract termination) or `date_renewal` (date of the next contract renewal). If this assumption is violated, we drop these observations.\n",
    "* **Assumption 2:** `date_end` (registered date of contract termination) should be the latest date per row. In other words, all other dates related to contract status should be earlier. Inconsistencies result in dropping the observations.\n",
    "* **Assumption 3:** `num_years_antig` should be equal to `date_end` minus `date_activ`. If this assumption is not met, we estimate and replace the inconsistent values in `num_years_antig`.\n"
   ]
  },
  {
   "cell_type": "code",
   "execution_count": 13,
   "id": "298e4a85",
   "metadata": {},
   "outputs": [
    {
     "name": "stdout",
     "output_type": "stream",
     "text": [
      "assumption 1: date_active is the lowest value per row\n",
      "Size of inconsistencies across rows in date_activ: 20\n",
      "Inconsistent cases dropped in date_activ\n",
      "\n"
     ]
    }
   ],
   "source": [
    "# dates\n",
    "cols_client_date = [col for col in client_df.columns if 'date' in col]\n",
    "\n",
    "# assumption 1: date_active is the lowest value per row\n",
    "print(\"assumption 1: date_active is the lowest value per row\")\n",
    "client_df[\"date_min\"] = client_df[cols_client_date].min(axis=1)\n",
    "client_df[\"date_activ_inconsistent\"] = [\n",
    "    True if (a > b) else False \n",
    "    for a, b in zip(client_df[\"date_activ\"], client_df[\"date_min\"])\n",
    "]\n",
    "size_1 = len(client_df[client_df[\"date_activ_inconsistent\"]==True])\n",
    "if size_1 > 0:\n",
    "    print(f\"Size of inconsistencies across rows in date_activ: {size_1}\")\n",
    "    client_df = client_df.drop(client_df[client_df[\"date_activ_inconsistent\"]==True].index).copy()\n",
    "    print(f\"Inconsistent cases dropped in date_activ\\n\")\n",
    "else:\n",
    "    print(f\"There are no inconsistencies across rows in date_activ\\n\")"
   ]
  },
  {
   "cell_type": "code",
   "execution_count": 14,
   "id": "4be4a7ba",
   "metadata": {},
   "outputs": [
    {
     "name": "stdout",
     "output_type": "stream",
     "text": [
      "assumption 2: date_end is the highest value per row\n",
      "There are no inconsistencies across rows in date_end\n",
      "\n"
     ]
    }
   ],
   "source": [
    "# assumption 2: date_end is the highest value per row\n",
    "print(\"assumption 2: date_end is the highest value per row\")\n",
    "client_df[\"date_max\"] = client_df[cols_client_date].max(axis=1)\n",
    "client_df[\"date_end_inconsistent\"] = [\n",
    "    True if (a < b) else False \n",
    "    for a, b in zip(client_df[\"date_end\"], client_df[\"date_max\"])\n",
    "]\n",
    "size_2 = len(client_df[client_df[\"date_end_inconsistent\"]==True])\n",
    "if size_2 > 0:\n",
    "    print(f\"Size of inconsistencies across rows in date_end: {size_2}\")\n",
    "    client_df = client_df.drop(client_df[client_df[\"date_end_inconsistent\"]==True].index).copy()\n",
    "    print(f\"Inconsistent cases dropped in date_end\\n\")\n",
    "else:\n",
    "    print(f\"There are no inconsistencies across rows in date_end\\n\")\n",
    "client_df = client_df.drop(columns=[\"date_min\",\"date_activ_inconsistent\",\"date_max\",\"date_end_inconsistent\"]).copy()"
   ]
  },
  {
   "cell_type": "code",
   "execution_count": 15,
   "id": "d89cc15e",
   "metadata": {},
   "outputs": [
    {
     "name": "stdout",
     "output_type": "stream",
     "text": [
      "assumption 3: num_years_antig is equivalent to date_end - date_activ\n",
      "Size of inconsistencies across rows in num_years_antig: 4863\n",
      "Min inconsistency per row: 2 years\n",
      "Max inconsistency per row: 11 years\n",
      "Inconsistent cases replaced with true estimates in num_years_antig\n"
     ]
    }
   ],
   "source": [
    "# assumption 3: num_years_antig is equivalent to date_end - date_activ\n",
    "print(\"assumption 3: num_years_antig is equivalent to date_end - date_activ\")\n",
    "client_df[\"num_years_check\"] = client_df[\"date_end\"].dt.year - client_df[\"date_activ\"].dt.year\n",
    "client_df[\"num_years_inconsistent\"] = [\n",
    "    True if (a != b) else False \n",
    "    for a, b in zip(client_df[\"num_years_antig\"], client_df[\"num_years_check\"])\n",
    "]\n",
    "size_3 = len(client_df[client_df[\"num_years_inconsistent\"]==True])\n",
    "min_3 = client_df[\"num_years_check\"].min()\n",
    "max_3 = client_df[\"num_years_check\"].max()\n",
    "if size_3 > 0:\n",
    "    print(f\"Size of inconsistencies across rows in num_years_antig: {size_3}\")\n",
    "    print(f\"Min inconsistency per row: {min_3} years\")\n",
    "    print(f\"Max inconsistency per row: {max_3} years\")\n",
    "    \n",
    "    # we replace values with our estimates\n",
    "    client_df[\"num_years_antig\"] = client_df[\"num_years_check\"].astype(\"Int64\")\n",
    "    print(f\"Inconsistent cases replaced with true estimates in num_years_antig\")\n",
    "else:\n",
    "    print(f\"There are no inconsistencies across rows in num_years_antig\")\n",
    "client_df = client_df.drop(columns=[\"num_years_check\",\"num_years_inconsistent\"]).copy()"
   ]
  },
  {
   "cell_type": "markdown",
   "id": "b16d717c",
   "metadata": {},
   "source": [
    "### Data quality: Duplicates\n",
    "\n",
    "Lastly, we assess duplicated entries. We do not find any duplicates."
   ]
  },
  {
   "cell_type": "code",
   "execution_count": 16,
   "id": "e794f1b0",
   "metadata": {},
   "outputs": [
    {
     "name": "stdout",
     "output_type": "stream",
     "text": [
      "Count of duplicates in client_df: 0\n",
      "Count of duplicates in price_df: 0\n"
     ]
    }
   ],
   "source": [
    "print(\"Count of duplicates in client_df:\",client_df.duplicated(keep='first').sum())\n",
    "print(\"Count of duplicates in price_df:\",price_df.duplicated(keep='first').sum())"
   ]
  },
  {
   "cell_type": "markdown",
   "id": "aeb9e960",
   "metadata": {},
   "source": [
    "### The cleaned data"
   ]
  },
  {
   "cell_type": "code",
   "execution_count": 17,
   "id": "72c44df7",
   "metadata": {},
   "outputs": [
    {
     "name": "stdout",
     "output_type": "stream",
     "text": [
      "Dimensions of client_df: (10811, 26)\n"
     ]
    },
    {
     "data": {
      "text/plain": [
       "Float64           10\n",
       "Int64              7\n",
       "datetime64[ns]     4\n",
       "bool               2\n",
       "string[python]     1\n",
       "category           1\n",
       "category           1\n",
       "Name: count, dtype: int64"
      ]
     },
     "execution_count": 17,
     "metadata": {},
     "output_type": "execute_result"
    }
   ],
   "source": [
    "print(\"Dimensions of client_df:\",client_df.shape)\n",
    "client_df.dtypes.value_counts()"
   ]
  },
  {
   "cell_type": "code",
   "execution_count": 18,
   "id": "0db2b6ef",
   "metadata": {},
   "outputs": [
    {
     "name": "stdout",
     "output_type": "stream",
     "text": [
      "Dimensions of client_df: (193002, 8)\n"
     ]
    },
    {
     "data": {
      "text/plain": [
       "Float64           6\n",
       "string[python]    1\n",
       "datetime64[ns]    1\n",
       "Name: count, dtype: int64"
      ]
     },
     "execution_count": 18,
     "metadata": {},
     "output_type": "execute_result"
    }
   ],
   "source": [
    "print(\"Dimensions of client_df:\",price_df.shape)\n",
    "price_df.dtypes.value_counts()"
   ]
  },
  {
   "cell_type": "markdown",
   "id": "966c3948-41c0-4183-9118-dd665c58a93c",
   "metadata": {},
   "source": [
    "---\n",
    "\n",
    "## Descriptive statistics\n",
    "\n",
    "We use `describe()` to examine the distribution of our data.\n",
    "\n",
    "### Categorical data\n",
    "\n",
    "**Binary Variables (`churn`, `has_gas`):** We observe that most users have `False` values for both `churn` and `has_gas`, indicating they haven't churned and don't have gas.\n",
    "\n",
    "**Nominal Variables (`channel_sales`, `origin_up`):** There are 7 categories for `channel_sales` and 4 for `origin_up`. It's also worth noting that most observations fall into the top predominant category within each variable, as shown in the graphs below.\n"
   ]
  },
  {
   "cell_type": "code",
   "execution_count": 19,
   "id": "ce57cef1",
   "metadata": {},
   "outputs": [
    {
     "data": {
      "text/html": [
       "<div>\n",
       "<style scoped>\n",
       "    .dataframe tbody tr th:only-of-type {\n",
       "        vertical-align: middle;\n",
       "    }\n",
       "\n",
       "    .dataframe tbody tr th {\n",
       "        vertical-align: top;\n",
       "    }\n",
       "\n",
       "    .dataframe thead th {\n",
       "        text-align: right;\n",
       "    }\n",
       "</style>\n",
       "<table border=\"1\" class=\"dataframe\">\n",
       "  <thead>\n",
       "    <tr style=\"text-align: right;\">\n",
       "      <th></th>\n",
       "      <th>channel_sales</th>\n",
       "      <th>has_gas</th>\n",
       "      <th>origin_up</th>\n",
       "      <th>churn</th>\n",
       "    </tr>\n",
       "  </thead>\n",
       "  <tbody>\n",
       "    <tr>\n",
       "      <th>count</th>\n",
       "      <td>10811</td>\n",
       "      <td>10811</td>\n",
       "      <td>10811</td>\n",
       "      <td>10811</td>\n",
       "    </tr>\n",
       "    <tr>\n",
       "      <th>unique</th>\n",
       "      <td>7</td>\n",
       "      <td>2</td>\n",
       "      <td>4</td>\n",
       "      <td>2</td>\n",
       "    </tr>\n",
       "    <tr>\n",
       "      <th>top</th>\n",
       "      <td>foosdfpfkusacimwkcsosbicdxkicaua</td>\n",
       "      <td>False</td>\n",
       "      <td>lxidpiddsbxsbosboudacockeimpuepw</td>\n",
       "      <td>False</td>\n",
       "    </tr>\n",
       "    <tr>\n",
       "      <th>freq</th>\n",
       "      <td>6711</td>\n",
       "      <td>8889</td>\n",
       "      <td>6431</td>\n",
       "      <td>9685</td>\n",
       "    </tr>\n",
       "  </tbody>\n",
       "</table>\n",
       "</div>"
      ],
      "text/plain": [
       "                           channel_sales has_gas  \\\n",
       "count                              10811   10811   \n",
       "unique                                 7       2   \n",
       "top     foosdfpfkusacimwkcsosbicdxkicaua   False   \n",
       "freq                                6711    8889   \n",
       "\n",
       "                               origin_up  churn  \n",
       "count                              10811  10811  \n",
       "unique                                 4      2  \n",
       "top     lxidpiddsbxsbosboudacockeimpuepw  False  \n",
       "freq                                6431   9685  "
      ]
     },
     "execution_count": 19,
     "metadata": {},
     "output_type": "execute_result"
    }
   ],
   "source": [
    "client_df.describe(include=[\"category\", bool])"
   ]
  },
  {
   "cell_type": "code",
   "execution_count": 20,
   "id": "bfe93f9b",
   "metadata": {},
   "outputs": [
    {
     "data": {
      "text/plain": [
       "<Axes: xlabel='channel_sales'>"
      ]
     },
     "execution_count": 20,
     "metadata": {},
     "output_type": "execute_result"
    },
    {
     "data": {
      "image/png": "[encoded data removed]",
      "text/plain": [
       "<Figure size 640x480 with 1 Axes>"
      ]
     },
     "metadata": {},
     "output_type": "display_data"
    }
   ],
   "source": [
    "client_df[\"channel_sales\"].value_counts().plot(kind='bar')"
   ]
  },
  {
   "cell_type": "code",
   "execution_count": 21,
   "id": "39afa722",
   "metadata": {},
   "outputs": [
    {
     "data": {
      "text/plain": [
       "<Axes: xlabel='origin_up'>"
      ]
     },
     "execution_count": 21,
     "metadata": {},
     "output_type": "execute_result"
    },
    {
     "data": {
      "image/png": "[encoded data removed]",
      "text/plain": [
       "<Figure size 640x480 with 1 Axes>"
      ]
     },
     "metadata": {},
     "output_type": "display_data"
    }
   ],
   "source": [
    "client_df[\"origin_up\"].value_counts().plot(kind='bar')"
   ]
  },
  {
   "cell_type": "markdown",
   "id": "b7f73f9c",
   "metadata": {},
   "source": [
    "### Continuous data\n",
    "\n",
    "Descriptive statistics for continuous data provide insights into the distribution characteristics of each variable.\n",
    "\n",
    "**Main takeaways**:\n",
    "- Only a handful of variables exhibit a normal distribution—for example, `price_off_peak_fix`, `price_off_peak_var`, and to a lesser extent, `forecast_cons_12m`. This is suggested by the close alignment between their mean and median (the 50th percentile).\n",
    "- In contrast, the majority of variables show a significant rightward skew, evidenced by their means being considerably higher than their medians.\n",
    "\n",
    "The above implies that applying logarithmic transformations to the data could be beneficial during model training to mitigate the skewness and potentially improve model performance."
   ]
  },
  {
   "cell_type": "code",
   "execution_count": 22,
   "id": "60f3010c-ecaf-4b8a-bb87-93bb54cc0c7e",
   "metadata": {},
   "outputs": [
    {
     "data": {
      "text/html": [
       "<div>\n",
       "<style scoped>\n",
       "    .dataframe tbody tr th:only-of-type {\n",
       "        vertical-align: middle;\n",
       "    }\n",
       "\n",
       "    .dataframe tbody tr th {\n",
       "        vertical-align: top;\n",
       "    }\n",
       "\n",
       "    .dataframe thead th {\n",
       "        text-align: right;\n",
       "    }\n",
       "</style>\n",
       "<table border=\"1\" class=\"dataframe\">\n",
       "  <thead>\n",
       "    <tr style=\"text-align: right;\">\n",
       "      <th></th>\n",
       "      <th>cons_12m</th>\n",
       "      <th>cons_gas_12m</th>\n",
       "      <th>cons_last_month</th>\n",
       "      <th>forecast_cons_12m</th>\n",
       "      <th>forecast_cons_year</th>\n",
       "      <th>forecast_discount_energy</th>\n",
       "      <th>forecast_meter_rent_12m</th>\n",
       "      <th>forecast_price_energy_off_peak</th>\n",
       "      <th>forecast_price_energy_peak</th>\n",
       "      <th>forecast_price_pow_off_peak</th>\n",
       "      <th>imp_cons</th>\n",
       "      <th>margin_gross_pow_ele</th>\n",
       "      <th>margin_net_pow_ele</th>\n",
       "      <th>nb_prod_act</th>\n",
       "      <th>net_margin</th>\n",
       "      <th>num_years_antig</th>\n",
       "      <th>pow_max</th>\n",
       "    </tr>\n",
       "  </thead>\n",
       "  <tbody>\n",
       "    <tr>\n",
       "      <th>count</th>\n",
       "      <td>10811.0</td>\n",
       "      <td>10811.0</td>\n",
       "      <td>10811.0</td>\n",
       "      <td>10811.0</td>\n",
       "      <td>10811.0</td>\n",
       "      <td>10811.0</td>\n",
       "      <td>10811.0</td>\n",
       "      <td>10811.0</td>\n",
       "      <td>10811.0</td>\n",
       "      <td>10811.0</td>\n",
       "      <td>10811.0</td>\n",
       "      <td>10811.0</td>\n",
       "      <td>10811.0</td>\n",
       "      <td>10811.0</td>\n",
       "      <td>10811.0</td>\n",
       "      <td>10811.0</td>\n",
       "      <td>10811.0</td>\n",
       "    </tr>\n",
       "    <tr>\n",
       "      <th>mean</th>\n",
       "      <td>175146.434095</td>\n",
       "      <td>28503.548608</td>\n",
       "      <td>17520.953658</td>\n",
       "      <td>1911.410965</td>\n",
       "      <td>1393.422718</td>\n",
       "      <td>1.075016</td>\n",
       "      <td>62.881922</td>\n",
       "      <td>0.138369</td>\n",
       "      <td>0.04992</td>\n",
       "      <td>43.218251</td>\n",
       "      <td>154.975558</td>\n",
       "      <td>25.306819</td>\n",
       "      <td>25.303301</td>\n",
       "      <td>1.277033</td>\n",
       "      <td>195.428611</td>\n",
       "      <td>4.940431</td>\n",
       "      <td>18.006408</td>\n",
       "    </tr>\n",
       "    <tr>\n",
       "      <th>std</th>\n",
       "      <td>613124.462955</td>\n",
       "      <td>170353.956166</td>\n",
       "      <td>68236.630263</td>\n",
       "      <td>2378.159022</td>\n",
       "      <td>2860.825113</td>\n",
       "      <td>5.355366</td>\n",
       "      <td>65.584807</td>\n",
       "      <td>0.022877</td>\n",
       "      <td>0.049374</td>\n",
       "      <td>2.942498</td>\n",
       "      <td>318.078616</td>\n",
       "      <td>21.033004</td>\n",
       "      <td>21.031968</td>\n",
       "      <td>0.680594</td>\n",
       "      <td>340.536812</td>\n",
       "      <td>1.218787</td>\n",
       "      <td>12.834328</td>\n",
       "    </tr>\n",
       "    <tr>\n",
       "      <th>min</th>\n",
       "      <td>0.0</td>\n",
       "      <td>0.0</td>\n",
       "      <td>0.0</td>\n",
       "      <td>0.0</td>\n",
       "      <td>0.0</td>\n",
       "      <td>0.0</td>\n",
       "      <td>0.0</td>\n",
       "      <td>0.0</td>\n",
       "      <td>0.0</td>\n",
       "      <td>0.0</td>\n",
       "      <td>0.0</td>\n",
       "      <td>0.0</td>\n",
       "      <td>0.0</td>\n",
       "      <td>1.0</td>\n",
       "      <td>0.0</td>\n",
       "      <td>2.0</td>\n",
       "      <td>3.3</td>\n",
       "    </tr>\n",
       "    <tr>\n",
       "      <th>25%</th>\n",
       "      <td>5894.5</td>\n",
       "      <td>0.0</td>\n",
       "      <td>0.0</td>\n",
       "      <td>520.33</td>\n",
       "      <td>0.0</td>\n",
       "      <td>0.0</td>\n",
       "      <td>16.19</td>\n",
       "      <td>0.116509</td>\n",
       "      <td>0.0</td>\n",
       "      <td>40.606701</td>\n",
       "      <td>0.0</td>\n",
       "      <td>14.64</td>\n",
       "      <td>14.64</td>\n",
       "      <td>1.0</td>\n",
       "      <td>52.655</td>\n",
       "      <td>4.0</td>\n",
       "      <td>13.0</td>\n",
       "    </tr>\n",
       "    <tr>\n",
       "      <th>50%</th>\n",
       "      <td>14973.0</td>\n",
       "      <td>0.0</td>\n",
       "      <td>847.0</td>\n",
       "      <td>1161.77</td>\n",
       "      <td>343.0</td>\n",
       "      <td>0.0</td>\n",
       "      <td>18.88</td>\n",
       "      <td>0.143166</td>\n",
       "      <td>0.083849</td>\n",
       "      <td>44.311378</td>\n",
       "      <td>42.48</td>\n",
       "      <td>22.21</td>\n",
       "      <td>22.21</td>\n",
       "      <td>1.0</td>\n",
       "      <td>116.88</td>\n",
       "      <td>5.0</td>\n",
       "      <td>13.856</td>\n",
       "    </tr>\n",
       "    <tr>\n",
       "      <th>75%</th>\n",
       "      <td>44209.0</td>\n",
       "      <td>0.0</td>\n",
       "      <td>3632.5</td>\n",
       "      <td>2482.125</td>\n",
       "      <td>1759.5</td>\n",
       "      <td>0.0</td>\n",
       "      <td>130.43</td>\n",
       "      <td>0.146348</td>\n",
       "      <td>0.098861</td>\n",
       "      <td>44.311378</td>\n",
       "      <td>197.495</td>\n",
       "      <td>30.22</td>\n",
       "      <td>30.22</td>\n",
       "      <td>1.0</td>\n",
       "      <td>252.405</td>\n",
       "      <td>6.0</td>\n",
       "      <td>19.05</td>\n",
       "    </tr>\n",
       "    <tr>\n",
       "      <th>max</th>\n",
       "      <td>6207104.0</td>\n",
       "      <td>4154590.0</td>\n",
       "      <td>771203.0</td>\n",
       "      <td>82902.83</td>\n",
       "      <td>79127.0</td>\n",
       "      <td>30.0</td>\n",
       "      <td>599.31</td>\n",
       "      <td>0.273963</td>\n",
       "      <td>0.168092</td>\n",
       "      <td>59.266378</td>\n",
       "      <td>9682.89</td>\n",
       "      <td>314.76</td>\n",
       "      <td>314.76</td>\n",
       "      <td>32.0</td>\n",
       "      <td>24570.65</td>\n",
       "      <td>11.0</td>\n",
       "      <td>320.0</td>\n",
       "    </tr>\n",
       "  </tbody>\n",
       "</table>\n",
       "</div>"
      ],
      "text/plain": [
       "            cons_12m   cons_gas_12m  cons_last_month  forecast_cons_12m  \\\n",
       "count        10811.0        10811.0          10811.0            10811.0   \n",
       "mean   175146.434095   28503.548608     17520.953658        1911.410965   \n",
       "std    613124.462955  170353.956166     68236.630263        2378.159022   \n",
       "min              0.0            0.0              0.0                0.0   \n",
       "25%           5894.5            0.0              0.0             520.33   \n",
       "50%          14973.0            0.0            847.0            1161.77   \n",
       "75%          44209.0            0.0           3632.5           2482.125   \n",
       "max        6207104.0      4154590.0         771203.0           82902.83   \n",
       "\n",
       "       forecast_cons_year  forecast_discount_energy  forecast_meter_rent_12m  \\\n",
       "count             10811.0                   10811.0                  10811.0   \n",
       "mean          1393.422718                  1.075016                62.881922   \n",
       "std           2860.825113                  5.355366                65.584807   \n",
       "min                   0.0                       0.0                      0.0   \n",
       "25%                   0.0                       0.0                    16.19   \n",
       "50%                 343.0                       0.0                    18.88   \n",
       "75%                1759.5                       0.0                   130.43   \n",
       "max               79127.0                      30.0                   599.31   \n",
       "\n",
       "       forecast_price_energy_off_peak  forecast_price_energy_peak  \\\n",
       "count                         10811.0                     10811.0   \n",
       "mean                         0.138369                     0.04992   \n",
       "std                          0.022877                    0.049374   \n",
       "min                               0.0                         0.0   \n",
       "25%                          0.116509                         0.0   \n",
       "50%                          0.143166                    0.083849   \n",
       "75%                          0.146348                    0.098861   \n",
       "max                          0.273963                    0.168092   \n",
       "\n",
       "       forecast_price_pow_off_peak    imp_cons  margin_gross_pow_ele  \\\n",
       "count                      10811.0     10811.0               10811.0   \n",
       "mean                     43.218251  154.975558             25.306819   \n",
       "std                       2.942498  318.078616             21.033004   \n",
       "min                            0.0         0.0                   0.0   \n",
       "25%                      40.606701         0.0                 14.64   \n",
       "50%                      44.311378       42.48                 22.21   \n",
       "75%                      44.311378     197.495                 30.22   \n",
       "max                      59.266378     9682.89                314.76   \n",
       "\n",
       "       margin_net_pow_ele  nb_prod_act  net_margin  num_years_antig    pow_max  \n",
       "count             10811.0      10811.0     10811.0          10811.0    10811.0  \n",
       "mean            25.303301     1.277033  195.428611         4.940431  18.006408  \n",
       "std             21.031968     0.680594  340.536812         1.218787  12.834328  \n",
       "min                   0.0          1.0         0.0              2.0        3.3  \n",
       "25%                 14.64          1.0      52.655              4.0       13.0  \n",
       "50%                 22.21          1.0      116.88              5.0     13.856  \n",
       "75%                 30.22          1.0     252.405              6.0      19.05  \n",
       "max                314.76         32.0    24570.65             11.0      320.0  "
      ]
     },
     "execution_count": 22,
     "metadata": {},
     "output_type": "execute_result"
    }
   ],
   "source": [
    "client_df.describe(include=[\"Int64\",\"Float64\"])"
   ]
  },
  {
   "cell_type": "code",
   "execution_count": 23,
   "id": "f8b442e6-e186-42f9-b3c5-c5c15cd8c82a",
   "metadata": {},
   "outputs": [
    {
     "data": {
      "text/html": [
       "<div>\n",
       "<style scoped>\n",
       "    .dataframe tbody tr th:only-of-type {\n",
       "        vertical-align: middle;\n",
       "    }\n",
       "\n",
       "    .dataframe tbody tr th {\n",
       "        vertical-align: top;\n",
       "    }\n",
       "\n",
       "    .dataframe thead th {\n",
       "        text-align: right;\n",
       "    }\n",
       "</style>\n",
       "<table border=\"1\" class=\"dataframe\">\n",
       "  <thead>\n",
       "    <tr style=\"text-align: right;\">\n",
       "      <th></th>\n",
       "      <th>price_off_peak_var</th>\n",
       "      <th>price_peak_var</th>\n",
       "      <th>price_mid_peak_var</th>\n",
       "      <th>price_off_peak_fix</th>\n",
       "      <th>price_peak_fix</th>\n",
       "      <th>price_mid_peak_fix</th>\n",
       "    </tr>\n",
       "  </thead>\n",
       "  <tbody>\n",
       "    <tr>\n",
       "      <th>count</th>\n",
       "      <td>193002.0</td>\n",
       "      <td>193002.0</td>\n",
       "      <td>193002.0</td>\n",
       "      <td>193002.0</td>\n",
       "      <td>193002.0</td>\n",
       "      <td>193002.0</td>\n",
       "    </tr>\n",
       "    <tr>\n",
       "      <th>mean</th>\n",
       "      <td>0.141027</td>\n",
       "      <td>0.05463</td>\n",
       "      <td>0.030496</td>\n",
       "      <td>43.334477</td>\n",
       "      <td>10.622875</td>\n",
       "      <td>6.409984</td>\n",
       "    </tr>\n",
       "    <tr>\n",
       "      <th>std</th>\n",
       "      <td>0.025032</td>\n",
       "      <td>0.049924</td>\n",
       "      <td>0.036298</td>\n",
       "      <td>5.410297</td>\n",
       "      <td>12.841895</td>\n",
       "      <td>7.773592</td>\n",
       "    </tr>\n",
       "    <tr>\n",
       "      <th>min</th>\n",
       "      <td>0.0</td>\n",
       "      <td>0.0</td>\n",
       "      <td>0.0</td>\n",
       "      <td>0.0</td>\n",
       "      <td>0.0</td>\n",
       "      <td>0.0</td>\n",
       "    </tr>\n",
       "    <tr>\n",
       "      <th>25%</th>\n",
       "      <td>0.125976</td>\n",
       "      <td>0.0</td>\n",
       "      <td>0.0</td>\n",
       "      <td>40.728885</td>\n",
       "      <td>0.0</td>\n",
       "      <td>0.0</td>\n",
       "    </tr>\n",
       "    <tr>\n",
       "      <th>50%</th>\n",
       "      <td>0.146033</td>\n",
       "      <td>0.085483</td>\n",
       "      <td>0.0</td>\n",
       "      <td>44.26693</td>\n",
       "      <td>0.0</td>\n",
       "      <td>0.0</td>\n",
       "    </tr>\n",
       "    <tr>\n",
       "      <th>75%</th>\n",
       "      <td>0.151635</td>\n",
       "      <td>0.101673</td>\n",
       "      <td>0.072558</td>\n",
       "      <td>44.44471</td>\n",
       "      <td>24.339581</td>\n",
       "      <td>16.226389</td>\n",
       "    </tr>\n",
       "    <tr>\n",
       "      <th>max</th>\n",
       "      <td>0.2807</td>\n",
       "      <td>0.229788</td>\n",
       "      <td>0.114102</td>\n",
       "      <td>59.44471</td>\n",
       "      <td>36.490692</td>\n",
       "      <td>17.458221</td>\n",
       "    </tr>\n",
       "  </tbody>\n",
       "</table>\n",
       "</div>"
      ],
      "text/plain": [
       "       price_off_peak_var  price_peak_var  price_mid_peak_var  \\\n",
       "count            193002.0        193002.0            193002.0   \n",
       "mean             0.141027         0.05463            0.030496   \n",
       "std              0.025032        0.049924            0.036298   \n",
       "min                   0.0             0.0                 0.0   \n",
       "25%              0.125976             0.0                 0.0   \n",
       "50%              0.146033        0.085483                 0.0   \n",
       "75%              0.151635        0.101673            0.072558   \n",
       "max                0.2807        0.229788            0.114102   \n",
       "\n",
       "       price_off_peak_fix  price_peak_fix  price_mid_peak_fix  \n",
       "count            193002.0        193002.0            193002.0  \n",
       "mean            43.334477       10.622875            6.409984  \n",
       "std              5.410297       12.841895            7.773592  \n",
       "min                   0.0             0.0                 0.0  \n",
       "25%             40.728885             0.0                 0.0  \n",
       "50%              44.26693             0.0                 0.0  \n",
       "75%              44.44471       24.339581           16.226389  \n",
       "max              59.44471       36.490692           17.458221  "
      ]
     },
     "execution_count": 23,
     "metadata": {},
     "output_type": "execute_result"
    }
   ],
   "source": [
    "price_df.describe(include=[\"Int64\",\"Float64\"])"
   ]
  },
  {
   "cell_type": "markdown",
   "id": "0255a768",
   "metadata": {},
   "source": [
    "### Date Data Analysis\n",
    "\n",
    "**Key Points:**\n",
    "\n",
    "* Both datasets (`price_df` and `client_df`) contain overlapping date ranges, which allows us to join them for analysis within specific time frames.\n",
    "* However, there's a crucial difference in date coverage. `price_df` only has price data for 2015, while `client_df` covers a broader range from 2005 to 2016.\n",
    "* To ensure accurate customer churn analysis when joining the data, we need to subset `client_df` first. This subset should include only clients with contracts active during 2015, matching the time frame of `price_df`.\n"
   ]
  },
  {
   "cell_type": "code",
   "execution_count": 24,
   "id": "f8a8fd61",
   "metadata": {},
   "outputs": [
    {
     "data": {
      "text/html": [
       "<div>\n",
       "<style scoped>\n",
       "    .dataframe tbody tr th:only-of-type {\n",
       "        vertical-align: middle;\n",
       "    }\n",
       "\n",
       "    .dataframe tbody tr th {\n",
       "        vertical-align: top;\n",
       "    }\n",
       "\n",
       "    .dataframe thead th {\n",
       "        text-align: right;\n",
       "    }\n",
       "</style>\n",
       "<table border=\"1\" class=\"dataframe\">\n",
       "  <thead>\n",
       "    <tr style=\"text-align: right;\">\n",
       "      <th></th>\n",
       "      <th>date_activ</th>\n",
       "      <th>date_end</th>\n",
       "      <th>date_modif_prod</th>\n",
       "      <th>date_renewal</th>\n",
       "    </tr>\n",
       "  </thead>\n",
       "  <tbody>\n",
       "    <tr>\n",
       "      <th>count</th>\n",
       "      <td>10811</td>\n",
       "      <td>10811</td>\n",
       "      <td>10811</td>\n",
       "      <td>10811</td>\n",
       "    </tr>\n",
       "    <tr>\n",
       "      <th>mean</th>\n",
       "      <td>2011-08-10 20:20:29.414485248</td>\n",
       "      <td>2016-07-22 20:45:15.900471808</td>\n",
       "      <td>2013-05-15 10:36:33.099620608</td>\n",
       "      <td>2015-07-15 21:54:55.643326208</td>\n",
       "    </tr>\n",
       "    <tr>\n",
       "      <th>min</th>\n",
       "      <td>2005-02-25 00:00:00</td>\n",
       "      <td>2016-01-28 00:00:00</td>\n",
       "      <td>2005-02-25 00:00:00</td>\n",
       "      <td>2013-06-26 00:00:00</td>\n",
       "    </tr>\n",
       "    <tr>\n",
       "      <th>25%</th>\n",
       "      <td>2010-07-21 00:00:00</td>\n",
       "      <td>2016-04-24 00:00:00</td>\n",
       "      <td>2011-07-08 12:00:00</td>\n",
       "      <td>2015-04-13 00:00:00</td>\n",
       "    </tr>\n",
       "    <tr>\n",
       "      <th>50%</th>\n",
       "      <td>2011-11-17 00:00:00</td>\n",
       "      <td>2016-07-16 00:00:00</td>\n",
       "      <td>2013-10-30 00:00:00</td>\n",
       "      <td>2015-07-09 00:00:00</td>\n",
       "    </tr>\n",
       "    <tr>\n",
       "      <th>75%</th>\n",
       "      <td>2012-07-03 00:00:00</td>\n",
       "      <td>2016-10-24 00:00:00</td>\n",
       "      <td>2015-06-16 00:00:00</td>\n",
       "      <td>2015-10-23 00:00:00</td>\n",
       "    </tr>\n",
       "    <tr>\n",
       "      <th>max</th>\n",
       "      <td>2014-09-01 00:00:00</td>\n",
       "      <td>2017-06-13 00:00:00</td>\n",
       "      <td>2016-01-29 00:00:00</td>\n",
       "      <td>2016-01-28 00:00:00</td>\n",
       "    </tr>\n",
       "  </tbody>\n",
       "</table>\n",
       "</div>"
      ],
      "text/plain": [
       "                          date_activ                       date_end  \\\n",
       "count                          10811                          10811   \n",
       "mean   2011-08-10 20:20:29.414485248  2016-07-22 20:45:15.900471808   \n",
       "min              2005-02-25 00:00:00            2016-01-28 00:00:00   \n",
       "25%              2010-07-21 00:00:00            2016-04-24 00:00:00   \n",
       "50%              2011-11-17 00:00:00            2016-07-16 00:00:00   \n",
       "75%              2012-07-03 00:00:00            2016-10-24 00:00:00   \n",
       "max              2014-09-01 00:00:00            2017-06-13 00:00:00   \n",
       "\n",
       "                     date_modif_prod                   date_renewal  \n",
       "count                          10811                          10811  \n",
       "mean   2013-05-15 10:36:33.099620608  2015-07-15 21:54:55.643326208  \n",
       "min              2005-02-25 00:00:00            2013-06-26 00:00:00  \n",
       "25%              2011-07-08 12:00:00            2015-04-13 00:00:00  \n",
       "50%              2013-10-30 00:00:00            2015-07-09 00:00:00  \n",
       "75%              2015-06-16 00:00:00            2015-10-23 00:00:00  \n",
       "max              2016-01-29 00:00:00            2016-01-28 00:00:00  "
      ]
     },
     "execution_count": 24,
     "metadata": {},
     "output_type": "execute_result"
    }
   ],
   "source": [
    "client_df.describe(include=[\"datetime\"])"
   ]
  },
  {
   "cell_type": "code",
   "execution_count": 25,
   "id": "51a10fe8",
   "metadata": {},
   "outputs": [
    {
     "data": {
      "text/html": [
       "<div>\n",
       "<style scoped>\n",
       "    .dataframe tbody tr th:only-of-type {\n",
       "        vertical-align: middle;\n",
       "    }\n",
       "\n",
       "    .dataframe tbody tr th {\n",
       "        vertical-align: top;\n",
       "    }\n",
       "\n",
       "    .dataframe thead th {\n",
       "        text-align: right;\n",
       "    }\n",
       "</style>\n",
       "<table border=\"1\" class=\"dataframe\">\n",
       "  <thead>\n",
       "    <tr style=\"text-align: right;\">\n",
       "      <th></th>\n",
       "      <th>price_date</th>\n",
       "    </tr>\n",
       "  </thead>\n",
       "  <tbody>\n",
       "    <tr>\n",
       "      <th>count</th>\n",
       "      <td>193002</td>\n",
       "    </tr>\n",
       "    <tr>\n",
       "      <th>mean</th>\n",
       "      <td>2015-06-16 12:50:49.933161216</td>\n",
       "    </tr>\n",
       "    <tr>\n",
       "      <th>min</th>\n",
       "      <td>2015-01-01 00:00:00</td>\n",
       "    </tr>\n",
       "    <tr>\n",
       "      <th>25%</th>\n",
       "      <td>2015-04-01 00:00:00</td>\n",
       "    </tr>\n",
       "    <tr>\n",
       "      <th>50%</th>\n",
       "      <td>2015-07-01 00:00:00</td>\n",
       "    </tr>\n",
       "    <tr>\n",
       "      <th>75%</th>\n",
       "      <td>2015-10-01 00:00:00</td>\n",
       "    </tr>\n",
       "    <tr>\n",
       "      <th>max</th>\n",
       "      <td>2015-12-01 00:00:00</td>\n",
       "    </tr>\n",
       "  </tbody>\n",
       "</table>\n",
       "</div>"
      ],
      "text/plain": [
       "                          price_date\n",
       "count                         193002\n",
       "mean   2015-06-16 12:50:49.933161216\n",
       "min              2015-01-01 00:00:00\n",
       "25%              2015-04-01 00:00:00\n",
       "50%              2015-07-01 00:00:00\n",
       "75%              2015-10-01 00:00:00\n",
       "max              2015-12-01 00:00:00"
      ]
     },
     "execution_count": 25,
     "metadata": {},
     "output_type": "execute_result"
    }
   ],
   "source": [
    "price_df.describe(include=[\"datetime\"])"
   ]
  },
  {
   "cell_type": "markdown",
   "id": "6a7a8879-c483-4464-9057-c70e6b150e53",
   "metadata": {},
   "source": [
    "---\n",
    "\n",
    "## Data visualization\n",
    "\n",
    "We focus on our two main variables of interest: churn and price\n",
    "\n",
    "### Churn Rate\n",
    "We start by exploring the prevalence of churn among the users of PowerCo. \n",
    "\n",
    "**Prevalence:**  The graph below shows that over ~10% of PowerCo's users churned (canceled service) in the last 3 months. This implies a potential for unbalanced data during our modeling stage, where churned users are a smaller proportion compared to non-churned users."
   ]
  },
  {
   "cell_type": "code",
   "execution_count": 26,
   "id": "448c05d8",
   "metadata": {},
   "outputs": [
    {
     "data": {
      "image/png": "[encoded data removed]",
      "text/plain": [
       "<Figure size 500x500 with 1 Axes>"
      ]
     },
     "metadata": {},
     "output_type": "display_data"
    }
   ],
   "source": [
    "churn = client_df[[\"id\", \"churn\"]]\n",
    "churn.columns = [\"id\", 'churn']\n",
    "churn_total = churn.groupby(churn['churn']).count()\n",
    "churn_percentage = churn_total / churn_total.sum() * 100\n",
    "data_visualization.plot_stacked_bars(churn_percentage.transpose(), \"Churning status\", (5, 5), legend_=\"lower right\")\n",
    "plt.ylabel(\"Company base (%)\")\n",
    "plt.show()"
   ]
  },
  {
   "cell_type": "markdown",
   "id": "1ccf20c4",
   "metadata": {},
   "source": [
    "**Impact: What is at stake?**  The churned users, though a minority, contribute significantly to PowerCo's profits. The graph below shows that they account for 13% of the company's net margin."
   ]
  },
  {
   "cell_type": "code",
   "execution_count": 27,
   "id": "c22abeed",
   "metadata": {},
   "outputs": [
    {
     "data": {
      "image/png": "[encoded data removed]",
      "text/plain": [
       "<Figure size 500x500 with 1 Axes>"
      ]
     },
     "metadata": {},
     "output_type": "display_data"
    }
   ],
   "source": [
    "churn = client_df[[\"net_margin\", \"churn\"]]\n",
    "churn.columns = [\"net_margin\", 'churn']\n",
    "churn_total = churn.groupby(churn['churn']).sum()\n",
    "churn_percentage = churn_total / churn_total.sum() * 100\n",
    "data_visualization.plot_stacked_bars(churn_percentage.transpose(), \"Churning status\", (5, 5), legend_=\"lower right\")\n",
    "plt.ylabel(\"Total net margin (%)\")\n",
    "plt.show()"
   ]
  },
  {
   "cell_type": "markdown",
   "id": "e91dcb35",
   "metadata": {},
   "source": [
    "**Churn by Customer Profile:**\n",
    "\n",
    "* **Consumption:** Churn is slightly higher among electricity users (~5%) compared to gas users (~3.5%) as shown in the charts below. We should incorporate user type (electricity vs. gas) into our modeling phase."
   ]
  },
  {
   "cell_type": "code",
   "execution_count": 28,
   "id": "86a230f6",
   "metadata": {},
   "outputs": [
    {
     "data": {
      "image/png": "[encoded data removed]",
      "text/plain": [
       "<Figure size 500x500 with 1 Axes>"
      ]
     },
     "metadata": {},
     "output_type": "display_data"
    }
   ],
   "source": [
    "churn = client_df.loc[client_df[\"has_gas\"]==1][[\"cons_gas_12m\", \"churn\"]]\n",
    "churn.columns = [\"cons_gas_12m\", 'churn']\n",
    "churn_total = churn.groupby(churn['churn']).sum()\n",
    "churn_percentage = churn_total / churn_total.sum() * 100\n",
    "data_visualization.plot_stacked_bars(churn_percentage.transpose(), \"Churning status\", (5, 5), legend_=\"lower right\")\n",
    "plt.ylabel(\"Gas consumption, last 12 months (%)\")\n",
    "plt.show()"
   ]
  },
  {
   "cell_type": "code",
   "execution_count": 29,
   "id": "3b506204",
   "metadata": {},
   "outputs": [
    {
     "data": {
      "image/png": "[encoded data removed]",
      "text/plain": [
       "<Figure size 500x500 with 1 Axes>"
      ]
     },
     "metadata": {},
     "output_type": "display_data"
    }
   ],
   "source": [
    "churn = client_df[[\"cons_12m\", \"churn\"]]\n",
    "churn.columns = [\"cons_12m\", 'churn']\n",
    "churn_total = churn.groupby(churn['churn']).sum()\n",
    "churn_percentage = churn_total / churn_total.sum() * 100\n",
    "data_visualization.plot_stacked_bars(churn_percentage.transpose(), \"Churning status\", (5, 5), legend_=\"lower right\")\n",
    "plt.ylabel(\"Electricity consumption, last 12 months (%)\")\n",
    "plt.show()"
   ]
  },
  {
   "cell_type": "markdown",
   "id": "eb062c4c",
   "metadata": {},
   "source": [
    "* **Tenure:** The graph below reveals that most churned users had been with the company for 4 to 6 years. Therefore, we should incorporate tenure into our model to identify customers at higher churn risk based on their time with the company."
   ]
  },
  {
   "cell_type": "code",
   "execution_count": 30,
   "id": "8dd7c091",
   "metadata": {},
   "outputs": [
    {
     "data": {
      "image/png": "[encoded data removed]",
      "text/plain": [
       "<Figure size 1800x500 with 1 Axes>"
      ]
     },
     "metadata": {},
     "output_type": "display_data"
    }
   ],
   "source": [
    "fig, axs = plt.subplots(nrows=1, figsize=(18, 5))\n",
    "data_visualization.plot_distribution(client_df, 'num_years_antig', axs)"
   ]
  },
  {
   "cell_type": "markdown",
   "id": "739e60a7",
   "metadata": {},
   "source": [
    "### Price Trends\n",
    "\n",
    "**Time Series Exploratory Analysis:** We plot below the average monthly energy and power prices over time. The plot shows relative stability in prices, with a slight decrease in peak and off-peak energy prices at the beginning of Q3 2015. This stability suggests that price might not be a major driver of user churn.  Factors such as volume of consumption or changes in service plans might be more influential.\n",
    "\n",
    "**Off-Peak Pricing Anomaly:** Interestingly, off-peak prices (`price_off_peak`) are consistently higher than peak prices (`price_peak`) in both energy and power markets. While this may seem counterintuitive, further investigation and domain knowledge is needed to understand the reason behind this pricing structure."
   ]
  },
  {
   "cell_type": "code",
   "execution_count": 31,
   "id": "ad7a9a2e",
   "metadata": {},
   "outputs": [
    {
     "data": {
      "text/html": [
       "<div>\n",
       "<style scoped>\n",
       "    .dataframe tbody tr th:only-of-type {\n",
       "        vertical-align: middle;\n",
       "    }\n",
       "\n",
       "    .dataframe tbody tr th {\n",
       "        vertical-align: top;\n",
       "    }\n",
       "\n",
       "    .dataframe thead th {\n",
       "        text-align: right;\n",
       "    }\n",
       "</style>\n",
       "<table border=\"1\" class=\"dataframe\">\n",
       "  <thead>\n",
       "    <tr style=\"text-align: right;\">\n",
       "      <th></th>\n",
       "      <th>price_off_peak_var</th>\n",
       "      <th>price_peak_var</th>\n",
       "      <th>price_mid_peak_var</th>\n",
       "      <th>price_off_peak_fix</th>\n",
       "      <th>price_peak_fix</th>\n",
       "      <th>price_mid_peak_fix</th>\n",
       "    </tr>\n",
       "    <tr>\n",
       "      <th>price_date_ym</th>\n",
       "      <th></th>\n",
       "      <th></th>\n",
       "      <th></th>\n",
       "      <th></th>\n",
       "      <th></th>\n",
       "      <th></th>\n",
       "    </tr>\n",
       "  </thead>\n",
       "  <tbody>\n",
       "    <tr>\n",
       "      <th>2015-01-01</th>\n",
       "      <td>0.142568</td>\n",
       "      <td>0.05495</td>\n",
       "      <td>0.030333</td>\n",
       "      <td>43.226643</td>\n",
       "      <td>10.692921</td>\n",
       "      <td>6.455861</td>\n",
       "    </tr>\n",
       "    <tr>\n",
       "      <th>2015-02-01</th>\n",
       "      <td>0.142767</td>\n",
       "      <td>0.055053</td>\n",
       "      <td>0.030367</td>\n",
       "      <td>43.238161</td>\n",
       "      <td>10.673719</td>\n",
       "      <td>6.449016</td>\n",
       "    </tr>\n",
       "    <tr>\n",
       "      <th>2015-03-01</th>\n",
       "      <td>0.143104</td>\n",
       "      <td>0.055118</td>\n",
       "      <td>0.030396</td>\n",
       "      <td>43.254033</td>\n",
       "      <td>10.644489</td>\n",
       "      <td>6.430121</td>\n",
       "    </tr>\n",
       "  </tbody>\n",
       "</table>\n",
       "</div>"
      ],
      "text/plain": [
       "               price_off_peak_var  price_peak_var  price_mid_peak_var  \\\n",
       "price_date_ym                                                           \n",
       "2015-01-01               0.142568         0.05495            0.030333   \n",
       "2015-02-01               0.142767        0.055053            0.030367   \n",
       "2015-03-01               0.143104        0.055118            0.030396   \n",
       "\n",
       "               price_off_peak_fix  price_peak_fix  price_mid_peak_fix  \n",
       "price_date_ym                                                          \n",
       "2015-01-01              43.226643       10.692921            6.455861  \n",
       "2015-02-01              43.238161       10.673719            6.449016  \n",
       "2015-03-01              43.254033       10.644489            6.430121  "
      ]
     },
     "execution_count": 31,
     "metadata": {},
     "output_type": "execute_result"
    }
   ],
   "source": [
    "# prepare the data\n",
    "price_tmp = price_df.drop(columns=[\"id\"])\n",
    "price_tmp.sort_values(by=[\"price_date\"])\n",
    "price_tmp[\"price_date_ym\"] = price_tmp[\"price_date\"].dt.to_period('M')\n",
    "price_tmp = price_tmp.drop(columns=[\"price_date\"]).copy()\n",
    "cols_num_price = list(price_tmp.select_dtypes(include=[\"Int64\",\"Float64\"]).columns)\n",
    "dat = price_tmp.groupby(\"price_date_ym\")\n",
    "price_df_ts = pd.concat([dat[cols_num_price].mean()], axis=1)\n",
    "# Convert Period to datetime for seaborn\n",
    "price_df_ts.index = price_df_ts.index.to_timestamp()\n",
    "price_df_ts.head(3)"
   ]
  },
  {
   "cell_type": "code",
   "execution_count": 32,
   "id": "bc2cdd16",
   "metadata": {},
   "outputs": [
    {
     "data": {
      "image/png": "[encoded data removed]",
      "text/plain": [
       "<Figure size 640x480 with 1 Axes>"
      ]
     },
     "metadata": {},
     "output_type": "display_data"
    }
   ],
   "source": [
    "pd.option_context('mode.use_inf_as_na', True)\n",
    "sns.lineplot(data=price_df_ts[[\"price_off_peak_var\",\"price_peak_var\",\"price_mid_peak_var\"]])\n",
    "plt.xlabel('Year-Month')  # Set x-axis label\n",
    "plt.ylabel('Value')  # Set y-axis label\n",
    "plt.title('Monthly average energy prices')  # Set plot title\n",
    "plt.legend(title='Variable')  # Customize legend\n",
    "plt.tight_layout()  # Adjust spacing for better visualization (optional)\n",
    "plt.show()"
   ]
  },
  {
   "cell_type": "code",
   "execution_count": 33,
   "id": "70c4a30e",
   "metadata": {},
   "outputs": [
    {
     "data": {
      "image/png": "[encoded data removed]",
      "text/plain": [
       "<Figure size 640x480 with 1 Axes>"
      ]
     },
     "metadata": {},
     "output_type": "display_data"
    }
   ],
   "source": [
    "sns.lineplot(data=price_df_ts[[\"price_off_peak_fix\",\"price_peak_fix\",\"price_mid_peak_fix\"]])\n",
    "plt.xlabel('Year-Month')  # Set x-axis label\n",
    "plt.ylabel('Value')  # Set y-axis label\n",
    "plt.title('Monthly average power prices')  # Set plot title\n",
    "plt.legend(title='Variable')  # Customize legend\n",
    "plt.tight_layout()  # Adjust spacing for better visualization (optional)\n",
    "plt.show()"
   ]
  }
 ],
 "metadata": {
  "interpreter": {
   "hash": "152bf6e7dc8ee53edb5af21dc1a8faeab7f134840808a94079ed98d91ece7e0c"
  },
  "kernelspec": {
   "display_name": "Python 3",
   "language": "python",
   "name": "python3"
  },
  "language_info": {
   "codemirror_mode": {
    "name": "ipython",
    "version": 3
   },
   "file_extension": ".py",
   "mimetype": "text/x-python",
   "name": "python",
   "nbconvert_exporter": "python",
   "pygments_lexer": "ipython3",
   "version": "3.11.9"
  }
 },
 "nbformat": 4,
 "nbformat_minor": 5
}
